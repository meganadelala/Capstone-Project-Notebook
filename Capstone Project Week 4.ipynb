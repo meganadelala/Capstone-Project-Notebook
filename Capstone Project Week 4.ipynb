{
    "cells": [
        {
            "cell_type": "markdown",
            "metadata": {
                "collapsed": true
            },
            "source": "# Week 4 Battle of the neighbourhood Problem Statement:"
        },
        {
            "cell_type": "markdown",
            "metadata": {},
            "source": "One of the main problems when one moves to a city is where to find a good and safe neighbourhood with low crime rates\nThis project will aim to analyse communities in Chicago\nA good community would be suggested as one with low crime rate, good school performance and high number of public schools\nThis project will aim to support people in the decision making of choosing a neighbourhood to live in Chicago\n"
        },
        {
            "cell_type": "markdown",
            "metadata": {},
            "source": "# Data"
        },
        {
            "cell_type": "markdown",
            "metadata": {},
            "source": "- Public Schools\n    * The data will be collected to show all school level performance data posted on the CPS School Report Cards for the 2011-2012 school year\n    * This data will be collected from the Chicago Data Portal\n- Crime\n    * The data set reflects incident of crimes that happened from 2011 to 2018\n    * This data will be collected from the Chicago Data Portal\n    \n- Methodology:\n    * Identify most violent area in Chicago based on crime data\n    * Visualised on map so users can beware of those areas\n    * Community with high numbers of schools\n    * Data is downloaded and stored in IBM Db2\n    * Venue information from Foursquare will also be used to give an users an overview of the community\n"
        },
        {
            "cell_type": "code",
            "execution_count": null,
            "metadata": {},
            "outputs": [],
            "source": ""
        }
    ],
    "metadata": {
        "kernelspec": {
            "display_name": "Python 3.6",
            "language": "python",
            "name": "python3"
        },
        "language_info": {
            "codemirror_mode": {
                "name": "ipython",
                "version": 3
            },
            "file_extension": ".py",
            "mimetype": "text/x-python",
            "name": "python",
            "nbconvert_exporter": "python",
            "pygments_lexer": "ipython3",
            "version": "3.6.9"
        }
    },
    "nbformat": 4,
    "nbformat_minor": 1
}